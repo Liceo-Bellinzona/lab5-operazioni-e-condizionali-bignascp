{
 "cells": [
  {
   "cell_type": "markdown",
   "metadata": {},
   "source": [
    "# Paga lorda\n",
    "Scrivere un programma che calcoli e visualizzi la paga lorda di un dipendente a ore. I\n",
    "passaggi da seguire sono i seguenti:\n",
    "1. Ottenere il numero di ore lavorative;\n",
    "2. ottenere retribuzione oraria;\n",
    "3. moltiplicare il numero di ore lavorate per la retribuzione oraria;\n",
    "4. visualizzare il risultato del calcolo eseguito al passaggio 3."
   ]
  },
  {
   "cell_type": "markdown",
   "metadata": {},
   "source": []
  },
  {
   "cell_type": "code",
   "execution_count": 1,
   "metadata": {},
   "outputs": [
    {
     "name": "stdout",
     "output_type": "stream",
     "text": [
      "il tuo stipendio giornaliero è 180\n"
     ]
    }
   ],
   "source": [
    "numero_ore=int(input (\"inserisci le ore lavorative\"))\n",
    "stipendio_orario=int(input (\"paga all'ora\"))\n",
    "stipendio_giornaliero = numero_ore*stipendio_orario\n",
    "print (f\"il tuo stipendio giornaliero è {stipendio_giornaliero}\")"
   ]
  },
  {
   "cell_type": "markdown",
   "metadata": {},
   "source": [
    "# Calcolo della superficie\n",
    "Un acro di terra corrisponde a circa 4046 metri quadrati. Scrivere un programma che chieda\n",
    "all’utente di inserire la superficie di un terreno in metri quadrati e calcoli quindi il numero\n",
    "di acri di quel terreno."
   ]
  },
  {
   "cell_type": "code",
   "execution_count": 4,
   "metadata": {},
   "outputs": [
    {
     "name": "stdout",
     "output_type": "stream",
     "text": [
      "il tuo terreno è 232.38630746416214 acri\n"
     ]
    }
   ],
   "source": [
    "superficie_terreno = int (input (\"inserisci i metri quadrati del tuo terreno\"))\n",
    "acri_di_terreno = superficie_terreno/4046\n",
    "print(f\"il tuo terreno è {acri_di_terreno} acri\")"
   ]
  },
  {
   "cell_type": "markdown",
   "metadata": {},
   "source": [
    "# Previsioni delle vendite \n",
    "Un’azienda ha determinato che il suo profitto annuale è tipicamente il 23% del totale delle\n",
    "vendite. \n",
    "Scrivere un programma che chieda all’utente di inserire il totale delle vendite previste e visualizzi quindi il profitto che si terrà da questa somma.\n",
    "\n",
    "*Suggerimento: non esiste il tipo di dato 23%. È necessario utilizzare gli operatori di\n",
    "moltiplicazione e divisione per ottenere la percentuale sul totale delle vendite.*\n"
   ]
  },
  {
   "cell_type": "code",
   "execution_count": 2,
   "metadata": {},
   "outputs": [
    {
     "name": "stdout",
     "output_type": "stream",
     "text": [
      "il tuo profitto annuale è di:                 322200\n"
     ]
    }
   ],
   "source": [
    "totale_vendite= int(input(\"inserisci il totale delle vendite\"))\n",
    "print(f\"il tuo profitto annuale è di:{totale_vendite*100:23}\")"
   ]
  },
  {
   "cell_type": "markdown",
   "metadata": {},
   "source": [
    "# IVA \n",
    "Scrivere un programma che chieda all’utente di inserire il costo totale di un acquisto al netto\n",
    "di Iva. \n",
    "\n",
    "Si supponga che l’IVA sia pari all’8%. \n",
    "\n",
    "Il programma deve visualizzare il costo totale\n",
    "dell’acquisto al netto di IVA, l’IVA e il costo totale dell’acquisto (quindi IVA compresa)."
   ]
  },
  {
   "cell_type": "code",
   "execution_count": null,
   "metadata": {},
   "outputs": [],
   "source": [
    "costo_tot = int(input(f\"inserisci il costo totale dell'acquisto\"))\n",
    "print(f\"il costo dell'acquisto al netto di IVA è {costo_tot}\")"
   ]
  },
  {
   "cell_type": "markdown",
   "metadata": {},
   "source": [
    "# esercizio biscotti\n"
   ]
  },
  {
   "cell_type": "code",
   "execution_count": null,
   "metadata": {},
   "outputs": [],
   "source": [
    "farina_1_biscotto = float(275:48)\n",
    "zucchero_1_biscotto = float(150:48)\n",
    "burro_1_biscotto = float(100:48)\n",
    "quantità_biscotti = int(input(\"inserire quantità di biscotti desiderata\"))\n",
    "quantità_farina = farina_1_biscotto*quantità_biscotti\n",
    "print(quantità_farina)\n",
    "print(burro_1_biscotto*quantità_biscotti)\n",
    "print(zucchero_1_biscotto*quantità_biscotti)\n",
    "print(f\"per la ricetta ti servisanno \")"
   ]
  }
 ],
 "metadata": {
  "kernelspec": {
   "display_name": "work",
   "language": "python",
   "name": "python3"
  },
  "language_info": {
   "codemirror_mode": {
    "name": "ipython",
    "version": 3
   },
   "file_extension": ".py",
   "mimetype": "text/x-python",
   "name": "python",
   "nbconvert_exporter": "python",
   "pygments_lexer": "ipython3",
   "version": "3.undefined.undefined"
  }
 },
 "nbformat": 4,
 "nbformat_minor": 2
}
